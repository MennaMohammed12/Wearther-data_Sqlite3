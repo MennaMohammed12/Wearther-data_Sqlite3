{
 "cells": [
  {
   "cell_type": "code",
   "execution_count": 31,
   "id": "ab4ec36f-7cc4-4d81-99de-cdc4e26b5b85",
   "metadata": {},
   "outputs": [],
   "source": [
    "import sqlite3"
   ]
  },
  {
   "cell_type": "code",
   "execution_count": 33,
   "id": "992122c6-78c1-490d-9380-2ac1635ef695",
   "metadata": {},
   "outputs": [],
   "source": [
    "# Create database\n",
    "conn=sqlite3.connect(\"CW_.db\")\n",
    "cursor=conn.execute(\"CREATE TABLE Weather (id INTEGER primary key Autoincrement, temp int, wind int, humidity int, pressure int,time_now datetime)\")\n"
   ]
  },
  {
   "cell_type": "code",
   "execution_count": 35,
   "id": "62e01ecb-092d-411e-86d0-154d20a82abb",
   "metadata": {},
   "outputs": [],
   "source": [
    "import requests\n",
    "from bs4 import BeautifulSoup\n",
    "from datetime import datetime\n",
    "import time\n",
    "import sqlite3\n"
   ]
  },
  {
   "cell_type": "code",
   "execution_count": 38,
   "id": "a2945fe8-96a3-4076-9507-ad52991fc734",
   "metadata": {},
   "outputs": [
    {
     "name": "stderr",
     "output_type": "stream",
     "text": [
      "C:\\Users\\menna\\AppData\\Local\\Temp\\ipykernel_9304\\532063688.py:25: DeprecationWarning: The default datetime adapter is deprecated as of Python 3.12; see the sqlite3 documentation for suggested replacement recipes\n",
      "  conn.execute(query, values)\n"
     ]
    }
   ],
   "source": [
    "#code with insert data into database\n",
    "for i in range(10):\n",
    "    response=requests.get(\"https://eg.freemeteo.com/weather/cairo/current-weather/location/?gid=360630&language=english&country=egypt#google_vignette\")\n",
    "    soup=BeautifulSoup(response.text, \"html.parser\")\n",
    "    div=soup.find(\"div\", attrs={\"class\" :\"last-renew-info\"})\n",
    "    #temp\n",
    "    temp = int(div.find('div', class_='temp').text.replace('°C', ''))    \n",
    "    wind=soup.find(\"div\", attrs={'class': 'wind'})\n",
    "    white=wind.find('span' , attrs={\"class\":\"white\"})\n",
    "    #wind\n",
    "    wind_speed=int (white.find('b').text)\n",
    "\n",
    "    stats=soup.find('div', attrs={'class':'stats'})\n",
    "    stats_list = stats.text.split('|')\n",
    "\n",
    "    humidity = stats_list[0].strip().split('\\r\\n')[1].strip().replace('%', '')    # 3: Humidity\n",
    "    visibility = stats_list[1].strip().split('\\r\\n')[1].strip().replace('m', '')  # 4: Visibility\n",
    "    pressure = stats_list[2].strip().split('\\r\\n')[1].strip().split('mb')[0]    \n",
    "    date = datetime.now()  # 6: time_now\n",
    "    #print(temp, wind_speed, humidity, visibility, pressure, date, sep=\" || \")\n",
    "\n",
    "    query = \"INSERT INTO weather (temp, wind, humidity, pressure, time_now) VALUES (?,?,?,?,?)\"\n",
    "    values = [temp, wind_speed, humidity, pressure, date]\n",
    "    \n",
    "    conn.execute(query, values)\n",
    "    conn.commit()\n",
    "    \n"
   ]
  },
  {
   "cell_type": "code",
   "execution_count": 43,
   "id": "c65f0a34-5a7d-4185-9c5f-f99864242732",
   "metadata": {},
   "outputs": [
    {
     "data": {
      "text/plain": [
       "[(1, 31, 13, 35, 1014, '2024-09-17 18:46:41.325970'),\n",
       " (2, 31, 13, 35, 1014, '2024-09-17 18:46:41.927161'),\n",
       " (3, 31, 13, 35, 1014, '2024-09-17 18:46:42.598697'),\n",
       " (4, 31, 13, 35, 1014, '2024-09-17 18:46:43.212781'),\n",
       " (5, 31, 13, 35, 1014, '2024-09-17 18:46:43.865257'),\n",
       " (6, 31, 13, 35, 1014, '2024-09-17 18:46:44.467713'),\n",
       " (7, 31, 13, 35, 1014, '2024-09-17 18:46:45.157062'),\n",
       " (8, 31, 13, 35, 1014, '2024-09-17 18:46:45.791601'),\n",
       " (9, 31, 13, 35, 1014, '2024-09-17 18:46:46.397449'),\n",
       " (10, 31, 13, 35, 1014, '2024-09-17 18:46:47.011729')]"
      ]
     },
     "execution_count": 43,
     "metadata": {},
     "output_type": "execute_result"
    }
   ],
   "source": [
    "d=conn.execute(\"SELECT * from weather\").fetchall()\n",
    "conn.close()\n",
    "d\n"
   ]
  },
  {
   "cell_type": "code",
   "execution_count": null,
   "id": "68ea98ac-8de3-4439-a28f-03fb86734a53",
   "metadata": {},
   "outputs": [],
   "source": []
  }
 ],
 "metadata": {
  "kernelspec": {
   "display_name": "Python 3 (ipykernel)",
   "language": "python",
   "name": "python3"
  },
  "language_info": {
   "codemirror_mode": {
    "name": "ipython",
    "version": 3
   },
   "file_extension": ".py",
   "mimetype": "text/x-python",
   "name": "python",
   "nbconvert_exporter": "python",
   "pygments_lexer": "ipython3",
   "version": "3.12.4"
  }
 },
 "nbformat": 4,
 "nbformat_minor": 5
}
